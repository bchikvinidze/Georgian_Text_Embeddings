{
 "cells": [
  {
   "cell_type": "markdown",
   "source": [
    "After gathering quora Q&A data and translating it, in this notebook I am doing eda to determine quality of it."
   ],
   "metadata": {
    "collapsed": false
   },
   "id": "438b1362252e7ed5"
  }
 ],
 "metadata": {
  "kernelspec": {
   "display_name": "Python 3",
   "language": "python",
   "name": "python3"
  },
  "language_info": {
   "codemirror_mode": {
    "name": "ipython",
    "version": 2
   },
   "file_extension": ".py",
   "mimetype": "text/x-python",
   "name": "python",
   "nbconvert_exporter": "python",
   "pygments_lexer": "ipython2",
   "version": "2.7.6"
  }
 },
 "nbformat": 4,
 "nbformat_minor": 5
}
